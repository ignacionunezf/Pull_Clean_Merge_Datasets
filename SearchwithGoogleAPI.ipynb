{
 "cells": [
  {
   "cell_type": "markdown",
   "metadata": {},
   "source": [
    "# 1. Load data\n",
    "Load cvs file and retrieve bar and restaurants' names and addresses"
   ]
  },
  {
   "cell_type": "code",
   "execution_count": null,
   "metadata": {},
   "outputs": [],
   "source": [
    "from IPython.core.interactiveshell import InteractiveShell\n",
    "InteractiveShell.ast_node_interactivity = \"all\""
   ]
  },
  {
   "cell_type": "code",
   "execution_count": null,
   "metadata": {},
   "outputs": [],
   "source": [
    "import pandas as pd\n",
    "\n",
    "pd.options.display.max_rows = 30"
   ]
  },
  {
   "cell_type": "code",
   "execution_count": null,
   "metadata": {},
   "outputs": [],
   "source": [
    "bars=pd.read_csv('Mixed_Beverage_Gross_Receipts.csv')  "
   ]
  },
  {
   "cell_type": "code",
   "execution_count": null,
   "metadata": {},
   "outputs": [],
   "source": [
    "bars.columns"
   ]
  },
  {
   "cell_type": "code",
   "execution_count": null,
   "metadata": {},
   "outputs": [],
   "source": [
    "bars2=bars[['Location Name','Location Address','Location City','Location State','Location Zip','Location County']]"
   ]
  },
  {
   "cell_type": "code",
   "execution_count": null,
   "metadata": {},
   "outputs": [],
   "source": [
    "bars2.tail(10)\n",
    "# bars2['Location Name'].astype(str) + bars2['Location Address']"
   ]
  },
  {
   "cell_type": "code",
   "execution_count": null,
   "metadata": {},
   "outputs": [],
   "source": [
    "bars3 = bars2.groupby(['Location Name', 'Location Address','Location State','Location City','Location Zip']).size().reset_index(name='Freq')"
   ]
  },
  {
   "cell_type": "code",
   "execution_count": null,
   "metadata": {},
   "outputs": [],
   "source": [
    "bars3.tail(10000)"
   ]
  },
  {
   "cell_type": "code",
   "execution_count": null,
   "metadata": {},
   "outputs": [],
   "source": [
    "bars3['Google'] = bars3.loc[:,'Location Name'].astype(str).str.cat(bars3.loc[:,'Location Zip'].astype(str), sep=' \\\"')\n",
    "bars3['Google'] = bars3.loc[:,'Google'].astype(str).str.cat(bars3.loc[:,'Location Address'].astype(str), sep='\\\" ')"
   ]
  },
  {
   "cell_type": "code",
   "execution_count": null,
   "metadata": {},
   "outputs": [],
   "source": [
    "bars3.tail(10000)"
   ]
  },
  {
   "cell_type": "markdown",
   "metadata": {},
   "source": [
    "# 2. Search with Google's API"
   ]
  },
  {
   "cell_type": "code",
   "execution_count": null,
   "metadata": {},
   "outputs": [],
   "source": [
    "import json\n",
    "import re\n",
    "import requests\n",
    "import numpy as np\n",
    "from time import sleep"
   ]
  },
  {
   "cell_type": "code",
   "execution_count": null,
   "metadata": {},
   "outputs": [],
   "source": [
    "ua = 'Mozilla/5.0 (Macintosh; Intel Mac OS X 10_15_6) AppleWebKit/537.36 (KHTML, like Gecko) Chrome/88.0.4324.146 Safari/537.36'"
   ]
  },
  {
   "cell_type": "code",
   "execution_count": null,
   "metadata": {},
   "outputs": [],
   "source": [
    "bars3['Google']=bars3['Google'].str.replace('\\+','', regex=True)\n",
    "bars3['Google']=bars3['Google'].str.replace('#','', regex=True)\n",
    "bars3['Google']=bars3['Google'].str.replace('\\&',' ', regex=True)\n",
    "bars3['Google']=bars3['Google'].str.replace('%',' ', regex=True)\n",
    "bars3['Google']=bars3['Google'].str.replace('\\\"','', regex=True)\n",
    "bars3['Google']=bars3['Google'].str.replace(' ','%20', regex=True)\n",
    "bars3['Google']=bars3['Google'].str.replace('\\'','', regex=True)\n",
    "bars3['Google']=bars3['Google'].str.replace('\\\\','', regex=True)\n",
    "bars3['Google']"
   ]
  },
  {
   "cell_type": "code",
   "execution_count": null,
   "metadata": {},
   "outputs": [],
   "source": [
    "#Chosen bar\n",
    "search=bars3.iloc[150,6]\n",
    "search"
   ]
  },
  {
   "cell_type": "code",
   "execution_count": null,
   "metadata": {},
   "outputs": [],
   "source": [
    "site='https://maps.googleapis.com/maps/api/place/findplacefromtext/json'\n",
    "inp='?input='+search\n",
    "inptype='&inputtype=textquery'\n",
    "fields='&fields=business_status,formatted_address,geometry,name,place_id,price_level,rating,user_ratings_total'\n",
    "#enter api key here\n",
    "key=''\n",
    "search=site+inp+inptype+fields+key\n",
    "search"
   ]
  },
  {
   "cell_type": "code",
   "execution_count": null,
   "metadata": {},
   "outputs": [],
   "source": [
    "req = requests.get(search)"
   ]
  },
  {
   "cell_type": "code",
   "execution_count": null,
   "metadata": {
    "scrolled": true
   },
   "outputs": [],
   "source": [
    "req.text"
   ]
  },
  {
   "cell_type": "code",
   "execution_count": null,
   "metadata": {},
   "outputs": [],
   "source": [
    "import json"
   ]
  },
  {
   "cell_type": "code",
   "execution_count": null,
   "metadata": {},
   "outputs": [],
   "source": [
    "data = json.loads(req.text)\n",
    "data"
   ]
  },
  {
   "cell_type": "code",
   "execution_count": null,
   "metadata": {},
   "outputs": [],
   "source": [
    "frame = pd.json_normalize(data['candidates'])\n",
    "frame"
   ]
  },
  {
   "cell_type": "code",
   "execution_count": null,
   "metadata": {},
   "outputs": [],
   "source": [
    "frame2 = pd.json_normalize(data['candidates'])\n",
    "frame2"
   ]
  },
  {
   "cell_type": "code",
   "execution_count": null,
   "metadata": {},
   "outputs": [],
   "source": [
    "data['status']"
   ]
  },
  {
   "cell_type": "code",
   "execution_count": null,
   "metadata": {
    "scrolled": true
   },
   "outputs": [],
   "source": [
    "appended_data=[]\n",
    "appended_data.append(frame)\n",
    "appended_data.append(frame2)\n",
    "appended_data = pd.concat(appended_data)\n",
    "appended_data\n",
    "appended_data.reset_index()"
   ]
  }
 ],
 "metadata": {
  "kernelspec": {
   "display_name": "Python 3",
   "language": "python",
   "name": "python3"
  },
  "language_info": {
   "codemirror_mode": {
    "name": "ipython",
    "version": 3
   },
   "file_extension": ".py",
   "mimetype": "text/x-python",
   "name": "python",
   "nbconvert_exporter": "python",
   "pygments_lexer": "ipython3",
   "version": "3.8.5"
  }
 },
 "nbformat": 4,
 "nbformat_minor": 4
}
