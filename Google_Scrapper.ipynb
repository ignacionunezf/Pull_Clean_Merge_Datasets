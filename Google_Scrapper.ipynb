{
 "cells": [
  {
   "cell_type": "markdown",
   "metadata": {},
   "source": [
    "# 1. Load data\n",
    "Load cvs file and retrieve bar and restaurants' names and addresses"
   ]
  },
  {
   "cell_type": "code",
   "execution_count": null,
   "metadata": {},
   "outputs": [],
   "source": [
    "from IPython.core.interactiveshell import InteractiveShell\n",
    "InteractiveShell.ast_node_interactivity = \"all\""
   ]
  },
  {
   "cell_type": "code",
   "execution_count": null,
   "metadata": {},
   "outputs": [],
   "source": [
    "import pandas as pd\n",
    "\n",
    "pd.options.display.max_rows = 30"
   ]
  },
  {
   "cell_type": "code",
   "execution_count": null,
   "metadata": {},
   "outputs": [],
   "source": [
    "bars=pd.read_csv('Mixed_Beverage_Gross_Receipts.csv')  "
   ]
  },
  {
   "cell_type": "code",
   "execution_count": null,
   "metadata": {},
   "outputs": [],
   "source": [
    "bars.columns"
   ]
  },
  {
   "cell_type": "code",
   "execution_count": null,
   "metadata": {},
   "outputs": [],
   "source": [
    "bars2=bars[['Location Name','Location Address','Location City','Location State','Location Zip','Location County']]"
   ]
  },
  {
   "cell_type": "code",
   "execution_count": null,
   "metadata": {},
   "outputs": [],
   "source": [
    "bars2.tail(10)\n",
    "# bars2['Location Name'].astype(str) + bars2['Location Address']"
   ]
  },
  {
   "cell_type": "code",
   "execution_count": null,
   "metadata": {},
   "outputs": [],
   "source": [
    "bars3 = bars2.groupby(['Location Name', 'Location Address','Location State','Location City','Location Zip']).size().reset_index(name='Freq')"
   ]
  },
  {
   "cell_type": "code",
   "execution_count": null,
   "metadata": {},
   "outputs": [],
   "source": [
    "bars3.tail(10000)"
   ]
  },
  {
   "cell_type": "code",
   "execution_count": null,
   "metadata": {},
   "outputs": [],
   "source": [
    "bars3['Google'] = bars3.loc[:,'Location Name'].astype(str).str.cat(bars3.loc[:,'Location Zip'].astype(str), sep=' \\\"')\n",
    "bars3['Google'] = bars3.loc[:,'Google'].astype(str).str.cat(bars3.loc[:,'Location Address'].astype(str), sep='\\\" ')"
   ]
  },
  {
   "cell_type": "code",
   "execution_count": null,
   "metadata": {},
   "outputs": [],
   "source": [
    "bars3.tail(10000)"
   ]
  },
  {
   "cell_type": "markdown",
   "metadata": {},
   "source": [
    "# 2. Search in Google"
   ]
  },
  {
   "cell_type": "code",
   "execution_count": null,
   "metadata": {
    "scrolled": true
   },
   "outputs": [],
   "source": [
    "recs = []\n",
    "errs = []\n",
    "search=bars3.iloc[0,5]:\n",
    "#search=bar+' tripadvisor'\n",
    "req = requests.get('https://www.google.com/search',\n",
    "              params = {'q': search},\n",
    "              headers = {'User-Agent': ua},\n",
    "              )\n",
    "sleep(0.05)\n",
    "try:\n",
    "    yelpdata=re.search(r'Search Results.+?Web results.+?href=.+?www.yelp.com.+?</span></div><div.+?><div.+?>', req.text).group(0)\n",
    "    price=re.search(r'Price range: (.+?)</span>', yelpdata).group(1)  \n",
    "    rating=re.search(r'Rating: (.+?)</span>', yelpdata).group(1)\n",
    "    web=re.search(r'href=\"(.+?)\"', yelpdata).group(1)\n",
    "    name=re.search(r'<span>(.+?)</span></h3><div class=', yelpdata).group(1)\n",
    "    reviews=re.search(r'Rating.+?<span>(.+?) reviews*</span>', yelpdata).group(1)\n",
    "    yelp_web=re.search(r'<a href=\"https://www.yelp.com(.+?)\" data-ved=.+?ping=.+?', yelpdata).group(1)\n",
    "    rec= bar, price, rating, reviews, web, yelp_web\n",
    "    recs.append(rec)\n",
    "    print(rec)\n",
    "except:\n",
    "    errs.append(bar)\n",
    "    print('No data for', bar)"
   ]
  },
  {
   "cell_type": "markdown",
   "metadata": {},
   "source": [
    "# 3. Search in Yelp"
   ]
  },
  {
   "cell_type": "code",
   "execution_count": null,
   "metadata": {},
   "outputs": [],
   "source": [
    "bars3 = bars2.groupby(['Location Name', 'Location Address','Location State','Location City','Location Zip']).size().reset_index(name='Freq')\n",
    "bars3['Location Name']=bars3['Location Name'].str.replace('\\#','', regex=True)\n",
    "bars3['Location Name']=bars3['Location Name'].str.replace('&','+', regex=True)\n",
    "bars3['Location Name']=bars3['Location Name'].str.replace('\\'','', regex=True)\n",
    "bars3['Location Name']=bars3['Location Name'].str.replace(' ','+', regex=True)\n",
    "bars3['Location City']=bars3['Location City'].str.replace(' ','+', regex=True)\n",
    "#bars3['Location City']='Austin'"
   ]
  },
  {
   "cell_type": "code",
   "execution_count": null,
   "metadata": {},
   "outputs": [],
   "source": [
    "bars3['Location City'].value_counts()"
   ]
  },
  {
   "cell_type": "code",
   "execution_count": null,
   "metadata": {},
   "outputs": [],
   "source": [
    "bars3['Location City'].describe()"
   ]
  },
  {
   "cell_type": "code",
   "execution_count": null,
   "metadata": {},
   "outputs": [],
   "source": [
    "search='https://www.yelp.com/search?find_desc=red+mesa+grill&find_loc=big+spring&ns=1'\n",
    "print(search)\n",
    "req=requests.get(search,\n",
    "                    headers = {'User-Agent': ua,\n",
    "                    'accept': '*/*',\n",
    "                    'accept-encoding': 'gzip, deflate, br',\n",
    "                    'accept-language': 'en-US,en;q=0.9,es;q=0.8',\n",
    "                    'content-type': 'application/json',\n",
    "                    'dnt': '1',\n",
    "                    'sec-fetch-dest': 'empty',\n",
    "                    'sec-fetch-mode': 'cors',\n",
    "                    'sec-fetch-site': 'same-origin'}\n",
    "                    )\n",
    "sleep(1)\n",
    "\n"
   ]
  },
  {
   "cell_type": "code",
   "execution_count": null,
   "metadata": {},
   "outputs": [],
   "source": [
    "req.text"
   ]
  },
  {
   "cell_type": "code",
   "execution_count": null,
   "metadata": {},
   "outputs": [],
   "source": [
    "yelpdata=re.search(r'>Top match<(.+?)>More businesses in similar categories<', req.text,re.DOTALL).group(1)\n",
    "style=re.findall(r'find_loc.+?target=.+?>(?!<img class)(.+?)</a>', yelpdata)\n",
    "style\n",
    "rating=re.search(r'aria-label=\"(\\d\\.*\\d*) star rating\" role=\"img\"', yelpdata).group(1)\n",
    "rating\n",
    "reviews=re.search(r'reviewCount.+?>(\\d+)</span></div></div></div>', yelpdata).group(1)\n",
    "reviews\n",
    "web=re.search(r'href=\"(.+?)\" target', yelpdata).group(1)\n",
    "web\n",
    "name=re.search(r'businessName.+?target=.+?name=.+?rel=.+?>(?!<img class)(.+?)</a></span></h4></div></div></div>', yelpdata,re.DOTALL).group(1)\n",
    "name\n",
    "#rec= bar, name, city, style, rating, reviews, web"
   ]
  },
  {
   "cell_type": "code",
   "execution_count": null,
   "metadata": {},
   "outputs": [],
   "source": [
    "recs = []\n",
    "errs = []\n",
    "count = 0\n",
    "bar=bars3.iloc[0,0]\n",
    "city=bars3.iloc[0,3]\n",
    "if city=='AUSTIN':\n",
    "    count=count+1\n",
    "    search='https://www.yelp.com/search?find_desc='+bar+'&find_loc='+city+'&ns=1'\n",
    "    print(search)\n",
    "    req=requests.get(search,\n",
    "                headers = {'User-Agent': ua,\n",
    "                'accept': '*/*',\n",
    "                'accept-encoding': 'gzip, deflate, br',\n",
    "                'accept-language': 'en-US,en;q=0.9,es;q=0.8',\n",
    "                'content-type': 'application/json',\n",
    "                'dnt': '1',\n",
    "                'sec-fetch-dest': 'empty',\n",
    "                'sec-fetch-mode': 'cors',\n",
    "                'sec-fetch-site': 'same-origin'}\n",
    "                )\n",
    "    sleep(1)\n",
    "    try:\n",
    "        yelpdata=re.search(r'>Top match<(.+?)>More businesses in similar categories<', req.text,re.DOTALL).group(1)\n",
    "        #price=re.search(r'priceRange.+?>(.+?)</span></span><span class', yelpdata).group(1)\n",
    "        style=re.findall(r'find_loc.+?target=.+?>(?!<img class)(.+?)</a>', yelpdata)\n",
    "        rating=re.search(r'aria-label=\"(\\d\\.*\\d*) star rating\" role=\"img\"', yelpdata).group(1)\n",
    "        reviews=re.search(r'reviewCount.+?>(\\d+)</span></div></div></div>', yelpdata).group(1)\n",
    "        web=re.search(r'href=\"(.+?)\" target', yelpdata).group(1)\n",
    "        name=re.search(r'businessName.+?target=.+?name=.+?rel=.+?>(?!<img class)(.+?)</a></span></h4></div></div></div>', yelpdata,re.DOTALL).group(1)\n",
    "        rec= bar, name, city, style, rating, reviews, web\n",
    "        recs.append(rec)\n",
    "        print(rec)\n",
    "    except:\n",
    "            try:\n",
    "                yelpdata=re.search(r'>All Results<.+?srcSet.+?srcSet', req.text).group(0)\n",
    "                #price=re.search(r'priceRange.+?>(.+?)</span></span><span class', yelpdata).group(1)\n",
    "                style=re.findall(r'find_loc.+?target=.+?>(?!<img class)(.+?)</a>', yelpdata)\n",
    "                rating=re.search(r'aria-label=\"(\\d\\.*\\d*) star rating\" role=\"img\"', yelpdata).group(1)\n",
    "                reviews=re.search(r'reviewCount.+?>(\\d+)</span></div></div></div>', yelpdata).group(1)\n",
    "                web=re.search(r'href=\"(.+?)\" target', yelpdata).group(1)\n",
    "                name=re.search(r'businessName.+?target=.+?name=.+?rel=.+?>(?!<img class)(.+?);.+?</a></span></h4></div></div></div><d', yelpdata).group(1)\n",
    "                rec= bar, name, city, style, rating, reviews, web\n",
    "                recs.append(rec)\n",
    "                print(rec)\n",
    "\n",
    "            except:\n",
    "                errs.append(bar)\n",
    "                print('No data for', bar)\n",
    "\n",
    "\n",
    "    #else:  \n",
    "         #print('Not Austin')"
   ]
  }
 ],
 "metadata": {
  "kernelspec": {
   "display_name": "Python 3",
   "language": "python",
   "name": "python3"
  },
  "language_info": {
   "codemirror_mode": {
    "name": "ipython",
    "version": 3
   },
   "file_extension": ".py",
   "mimetype": "text/x-python",
   "name": "python",
   "nbconvert_exporter": "python",
   "pygments_lexer": "ipython3",
   "version": "3.8.5"
  }
 },
 "nbformat": 4,
 "nbformat_minor": 4
}
